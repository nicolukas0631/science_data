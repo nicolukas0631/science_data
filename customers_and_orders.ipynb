{
  "cells": [
    {
      "cell_type": "markdown",
      "metadata": {
        "id": "piiX_CRNFYUi"
      },
      "source": [
        "# Technical Challenge ! Custiomers and Orders - The lifeblood of any business!\n",
        "\n",
        "This notebook depends on two data files: customers.scv and orders.csv. These files are hosted in the cloud (or Github), so for simplicity, we are providing you with the code to download and save the two files in a folder called 'sample_data' which lives within this notebook session (not on your local computer nor Google Drive).\n",
        "\n",
        "![sample_data folder in notebook session](https://raw.githubusercontent.com/anyoneai/notebooks/main/customers_and_orders/images/sample_data_folder.png)\n",
        "\n",
        "Please execute the first code snippet before moving to the rest of the exercise as this code will import the data from the files for you to be able to execute the rest of the exercise.\n",
        "\n",
        "Remember as we said in the previous lecture, you have to save this notebook into your Google Drive by going to menu File/Save a Copy In Drive, or clicking in the button \"Copy to Drive\". This way, you will not lose any work you've done and the file will persist with your latest changes in your Google Drive. Also we recommend you to rename your .ipynb in your Google Drive, so you can easily find it in the future."
      ]
    },
    {
      "cell_type": "code",
      "execution_count": 2,
      "metadata": {
        "colab": {
          "base_uri": "https://localhost:8080/"
        },
        "id": "MWpVO242FQHC",
        "outputId": "7534adff-eff9-48f9-8472-d7f1285c50a6"
      },
      "outputs": [
        {
          "output_type": "stream",
          "name": "stdout",
          "text": [
            "Customers and orders CSV files have been added './sample_data'\n"
          ]
        }
      ],
      "source": [
        "import requests\n",
        "\n",
        "def import_data_files():\n",
        "  r = requests.get('https://raw.githubusercontent.com/anyoneai/notebooks/main/customers_and_orders/data/customers.csv')\n",
        "  with open('./sample_data/customers.csv', 'wb') as f:\n",
        "    f.write(r.content)\n",
        "\n",
        "  r = requests.get('https://raw.githubusercontent.com/anyoneai/notebooks/main/customers_and_orders/data/orders.csv')\n",
        "  with open('./sample_data/orders.csv', 'wb') as f:\n",
        "    f.write(r.content)\n",
        "\n",
        "import_data_files()\n",
        "print(\"Customers and orders CSV files have been added './sample_data'\")"
      ]
    },
    {
      "cell_type": "markdown",
      "metadata": {
        "id": "JQAduY-RWKyB"
      },
      "source": [
        "# Exercise 1: Processing Customers data (difficulty medium)\n",
        "\n",
        "The sample customer data in 'customers.csv' file has just 5 columns: CustomerId, First Name, Last Name, City and State\n",
        "\n",
        "![Data sample](https://raw.githubusercontent.com/anyoneai/notebooks/main/customers_and_orders/images/customers.png)\n",
        "\n",
        "We strongly recommend that you complete from the [Prep Course: Intro to Python](https://colab.research.google.com/github/anyoneai/notebooks/blob/main/python3_crash_course.ipynb) the following section:\n",
        "- Section 7: File I/O (to understand how to read CSV file)\n",
        "- Section 6: For Loop (to navigate the contents of the CSV file)\n",
        "- Section 5: Tuples, Lists, and Dictionaries (to manipulate the data of the CSV file)\n",
        "\n",
        "With this, we hope you can complete this exercise successfully. Although if you want to solve this with libraries or any other way, you are welcome to do it your way.\n",
        "\n",
        "*Hint:* We advise you to take a look at the data before you start.\n",
        "**if you want to manually take a look at the data before you start, please see the content of the data [here](https://github.com/anyoneai/notebooks/blob/main/customers_and_orders/data/customers.csv).\n",
        "\n",
        "*Hint*: There are many ways to do this exercise you can do your own, although here's some help. You can solve this exercise reading and parsing CSV files, structuring data into dictionaries, and using for loops to navigate the contents\n",
        "\n",
        "*Hint*: Also, keep in mind that data might not be clean and you might have to figure out how to deal with that data from the code, without having to modify the data source.\n",
        "\n",
        "Below are the 5 questions you'll have to answer to pass the evaluation:"
      ]
    },
    {
      "cell_type": "markdown",
      "metadata": {
        "id": "kJq7S8sBfbOW"
      },
      "source": [
        "**Question 1:** How many customers are in the file?\n",
        "(as help, we have added some comments and starter code to help you structure the solution)"
      ]
    },
    {
      "cell_type": "code",
      "execution_count": 71,
      "metadata": {
        "colab": {
          "base_uri": "https://localhost:8080/",
          "height": 341
        },
        "id": "oMnUFBFb2RUb",
        "outputId": "a8fb466a-38dd-419a-cdc6-1e21fccefe9f"
      },
      "outputs": [
        {
          "output_type": "stream",
          "name": "stdout",
          "text": [
            "<class 'pandas.core.frame.DataFrame'>\n",
            "RangeIndex: 602 entries, 0 to 601\n",
            "Data columns (total 5 columns):\n",
            " #   Column      Non-Null Count  Dtype \n",
            "---  ------      --------------  ----- \n",
            " 0   CustomerID  602 non-null    int64 \n",
            " 1   FirstName   602 non-null    object\n",
            " 2   LastName    602 non-null    object\n",
            " 3   City        602 non-null    object\n",
            " 4   State       602 non-null    object\n",
            "dtypes: int64(1), object(4)\n",
            "memory usage: 23.6+ KB\n",
            "\n"
          ]
        },
        {
          "output_type": "execute_result",
          "data": {
            "text/plain": [
              "False    602\n",
              "Name: count, dtype: int64"
            ],
            "text/html": [
              "<div>\n",
              "<style scoped>\n",
              "    .dataframe tbody tr th:only-of-type {\n",
              "        vertical-align: middle;\n",
              "    }\n",
              "\n",
              "    .dataframe tbody tr th {\n",
              "        vertical-align: top;\n",
              "    }\n",
              "\n",
              "    .dataframe thead th {\n",
              "        text-align: right;\n",
              "    }\n",
              "</style>\n",
              "<table border=\"1\" class=\"dataframe\">\n",
              "  <thead>\n",
              "    <tr style=\"text-align: right;\">\n",
              "      <th></th>\n",
              "      <th>count</th>\n",
              "    </tr>\n",
              "  </thead>\n",
              "  <tbody>\n",
              "    <tr>\n",
              "      <th>False</th>\n",
              "      <td>602</td>\n",
              "    </tr>\n",
              "  </tbody>\n",
              "</table>\n",
              "</div><br><label><b>dtype:</b> int64</label>"
            ]
          },
          "metadata": {},
          "execution_count": 71
        }
      ],
      "source": [
        "import pandas as pd\n",
        "\n",
        "df_costumers = pd.read_csv('./sample_data/customers.csv')\n",
        "\n",
        "df_duplicates = df_costumers.duplicated()\n",
        "df_costumers.info()\n",
        "print()\n",
        "df_duplicates.value_counts()"
      ]
    },
    {
      "cell_type": "code",
      "source": [
        "df_costumers.rename(columns={'CustomerID': 'customer_id', 'FirstName': 'first_name', 'LastName': 'last_name', 'City': 'city', 'State': 'state'}, inplace=True)\n",
        "df_costumers.info()"
      ],
      "metadata": {
        "colab": {
          "base_uri": "https://localhost:8080/"
        },
        "id": "xus6OE_PoRlP",
        "outputId": "1f91c0b4-ada6-4a1b-deea-4c3709833b1e"
      },
      "execution_count": 72,
      "outputs": [
        {
          "output_type": "stream",
          "name": "stdout",
          "text": [
            "<class 'pandas.core.frame.DataFrame'>\n",
            "RangeIndex: 602 entries, 0 to 601\n",
            "Data columns (total 5 columns):\n",
            " #   Column       Non-Null Count  Dtype \n",
            "---  ------       --------------  ----- \n",
            " 0   customer_id  602 non-null    int64 \n",
            " 1   first_name   602 non-null    object\n",
            " 2   last_name    602 non-null    object\n",
            " 3   city         602 non-null    object\n",
            " 4   state        602 non-null    object\n",
            "dtypes: int64(1), object(4)\n",
            "memory usage: 23.6+ KB\n"
          ]
        }
      ]
    },
    {
      "cell_type": "code",
      "source": [
        "df_costumers = pd.read_csv('./sample_data/customers.csv')\n",
        "df_costumers.head()\n",
        "rows = len(df_costumers.axes[0])\n",
        "print(f'\\nThere are {rows} costumers in the file.')\n"
      ],
      "metadata": {
        "colab": {
          "base_uri": "https://localhost:8080/"
        },
        "id": "-FJE2JsogJAG",
        "outputId": "51e06021-586a-4263-d189-21281b3fcda8"
      },
      "execution_count": 60,
      "outputs": [
        {
          "output_type": "stream",
          "name": "stdout",
          "text": [
            "\n",
            "There are 602 costumers in the file.\n"
          ]
        }
      ]
    },
    {
      "cell_type": "markdown",
      "metadata": {
        "id": "uffBnNgz_570"
      },
      "source": [
        "**Question 2:** In how many different states do the customers live in?"
      ]
    },
    {
      "cell_type": "code",
      "execution_count": 73,
      "metadata": {
        "id": "Bi_yid0sMe3-",
        "colab": {
          "base_uri": "https://localhost:8080/"
        },
        "outputId": "31257e83-2d93-4206-b6f7-d75f343d9702"
      },
      "outputs": [
        {
          "output_type": "stream",
          "name": "stdout",
          "text": [
            "\n",
            "There are 14 unique states in the file.\n",
            "['CA' 'AZ' 'NV' 'FL' 'WA' 'NH' 'ID' 'CO' 'TX' 'NM' 'OR' 'UT' 'MA' 'IN']\n"
          ]
        }
      ],
      "source": [
        "# open file and init vars\n",
        "# evaluate the contents of the file\n",
        "df_costumers['state'] = df_costumers['state'].str.strip().str.upper()\n",
        "states_unique = df_costumers['state'].unique()\n",
        "print(f'\\nThere are {len(states_unique)} unique states in the file.')\n",
        "print(states_unique)"
      ]
    },
    {
      "cell_type": "markdown",
      "metadata": {
        "id": "DC59SZYiMfNY"
      },
      "source": [
        "**Question 3** What is the state with most customers?"
      ]
    },
    {
      "cell_type": "code",
      "execution_count": 74,
      "metadata": {
        "id": "tfGU3w-OMhA9",
        "colab": {
          "base_uri": "https://localhost:8080/",
          "height": 589
        },
        "outputId": "261284b1-b7bc-42c5-aadf-e9493f747fc0"
      },
      "outputs": [
        {
          "output_type": "stream",
          "name": "stdout",
          "text": [
            "\n",
            "The state with most customers is CA with 569 customers.\n"
          ]
        },
        {
          "output_type": "execute_result",
          "data": {
            "text/plain": [
              "state\n",
              "CA    569\n",
              "NV      8\n",
              "AZ      6\n",
              "FL      3\n",
              "NM      3\n",
              "CO      3\n",
              "TX      2\n",
              "UT      2\n",
              "NH      1\n",
              "WA      1\n",
              "ID      1\n",
              "OR      1\n",
              "MA      1\n",
              "IN      1\n",
              "Name: count, dtype: int64"
            ],
            "text/html": [
              "<div>\n",
              "<style scoped>\n",
              "    .dataframe tbody tr th:only-of-type {\n",
              "        vertical-align: middle;\n",
              "    }\n",
              "\n",
              "    .dataframe tbody tr th {\n",
              "        vertical-align: top;\n",
              "    }\n",
              "\n",
              "    .dataframe thead th {\n",
              "        text-align: right;\n",
              "    }\n",
              "</style>\n",
              "<table border=\"1\" class=\"dataframe\">\n",
              "  <thead>\n",
              "    <tr style=\"text-align: right;\">\n",
              "      <th></th>\n",
              "      <th>count</th>\n",
              "    </tr>\n",
              "    <tr>\n",
              "      <th>state</th>\n",
              "      <th></th>\n",
              "    </tr>\n",
              "  </thead>\n",
              "  <tbody>\n",
              "    <tr>\n",
              "      <th>CA</th>\n",
              "      <td>569</td>\n",
              "    </tr>\n",
              "    <tr>\n",
              "      <th>NV</th>\n",
              "      <td>8</td>\n",
              "    </tr>\n",
              "    <tr>\n",
              "      <th>AZ</th>\n",
              "      <td>6</td>\n",
              "    </tr>\n",
              "    <tr>\n",
              "      <th>FL</th>\n",
              "      <td>3</td>\n",
              "    </tr>\n",
              "    <tr>\n",
              "      <th>NM</th>\n",
              "      <td>3</td>\n",
              "    </tr>\n",
              "    <tr>\n",
              "      <th>CO</th>\n",
              "      <td>3</td>\n",
              "    </tr>\n",
              "    <tr>\n",
              "      <th>TX</th>\n",
              "      <td>2</td>\n",
              "    </tr>\n",
              "    <tr>\n",
              "      <th>UT</th>\n",
              "      <td>2</td>\n",
              "    </tr>\n",
              "    <tr>\n",
              "      <th>NH</th>\n",
              "      <td>1</td>\n",
              "    </tr>\n",
              "    <tr>\n",
              "      <th>WA</th>\n",
              "      <td>1</td>\n",
              "    </tr>\n",
              "    <tr>\n",
              "      <th>ID</th>\n",
              "      <td>1</td>\n",
              "    </tr>\n",
              "    <tr>\n",
              "      <th>OR</th>\n",
              "      <td>1</td>\n",
              "    </tr>\n",
              "    <tr>\n",
              "      <th>MA</th>\n",
              "      <td>1</td>\n",
              "    </tr>\n",
              "    <tr>\n",
              "      <th>IN</th>\n",
              "      <td>1</td>\n",
              "    </tr>\n",
              "  </tbody>\n",
              "</table>\n",
              "</div><br><label><b>dtype:</b> int64</label>"
            ]
          },
          "metadata": {},
          "execution_count": 74
        }
      ],
      "source": [
        "# open file and init vars\n",
        "# evaluate the contents of the file\n",
        "count_state = df_costumers['state'].value_counts()\n",
        "most_common_state = count_state.index[0]\n",
        "print(f'\\nThe state with most customers is {most_common_state} with {count_state.max()} customers.')\n",
        "count_state"
      ]
    },
    {
      "cell_type": "markdown",
      "metadata": {
        "id": "7mcM6cUAMhLB"
      },
      "source": [
        "**Question 4** What is the state with the least customers?"
      ]
    },
    {
      "cell_type": "code",
      "execution_count": 75,
      "metadata": {
        "id": "8T0Ka2RqMi3P",
        "colab": {
          "base_uri": "https://localhost:8080/"
        },
        "outputId": "11ff9b69-9eb2-480d-c706-c5089247df19"
      },
      "outputs": [
        {
          "output_type": "stream",
          "name": "stdout",
          "text": [
            "\n",
            "The states with least customers are ['NH', 'WA', 'ID', 'OR', 'MA', 'IN'] with 1 customer.\n"
          ]
        }
      ],
      "source": [
        "# open file and init vars\n",
        "# evaluate the contents of the file\n",
        "count_state = df_costumers['state'].value_counts()\n",
        "least_common_state = count_state[count_state == count_state.min()].index.tolist()\n",
        "print(f'\\nThe states with least customers are {least_common_state} with {count_state.min()} customer.')"
      ]
    },
    {
      "cell_type": "markdown",
      "metadata": {
        "id": "h6fIy7hXHF6A"
      },
      "source": [
        "**Question 5:** What is the most common last name?"
      ]
    },
    {
      "cell_type": "code",
      "execution_count": 76,
      "metadata": {
        "id": "k8M1DmA75Km7",
        "colab": {
          "base_uri": "https://localhost:8080/"
        },
        "outputId": "8a67bc33-1af1-4080-c9ed-bf97cebe5b65"
      },
      "outputs": [
        {
          "output_type": "stream",
          "name": "stdout",
          "text": [
            "\n",
            "The most common last name is Smith with 8 occurrences.\n",
            "\n",
            "And there are 423 unique last names in the file.\n"
          ]
        }
      ],
      "source": [
        "# open file and init vars\n",
        "# evaluate the contents of the file\n",
        "df_costumers['last_name'] = df_costumers['last_name'].str.strip()\n",
        "last_name_counts = df_costumers['last_name'].value_counts()\n",
        "most_common_last_name = last_name_counts.index[0]\n",
        "print(f'\\nThe most common last name is {most_common_last_name} with {last_name_counts.max()} occurrences.')\n",
        "print(f'\\nAnd there are {len(last_name_counts)} unique last names in the file.')"
      ]
    },
    {
      "cell_type": "markdown",
      "metadata": {
        "id": "YPRma1t9NoFk"
      },
      "source": [
        "# Exercise 2: Processing Orders data (difficulty high)\n",
        "\n",
        "The second sample files contains orders placed by customers from the first file. Be careful, this file has many rows and you most likely should not print the contents of the whole file.\n",
        "\n",
        "The file contains the following columns: CustomerID, OrderID, Date, OrderTotal, ProductName, Price\n",
        "\n",
        "![Data sample](https://raw.githubusercontent.com/anyoneai/notebooks/main/customers_and_orders/images/orders.png)\n",
        "\n",
        "*Hint:* We advise you to take a look at the data before you start.\n",
        "**if you want to manually take a look at the data before you start, please see the content of the data [here](https://raw.githubusercontent.com/anyoneai/notebooks/main/customers_and_orders/data/orders.csv).\n",
        "\n",
        "*Hint*: There are many ways to do this exercise you can do your own, although here's some help. You can solve this exercise reading and parsing CSV files, structuring data into dictionaries, and using for loops to navigate the contents\n",
        "\n",
        "*Hint*: Also, the data is not clean and you will have to figure out how to deal with that data from the code, without having to modify the data source.\n",
        "\n",
        "\n",
        "\n",
        "**Question #1:** How many unique orders are in the orders.csv file?\n",
        "\n",
        "**Question #2:** What is the average number of items per order (rounded to two decimal places)?\n",
        "\n",
        "**Question #3:** What is the highest number of items per order?\n",
        "\n",
        "**Question #4:** What is the number of orders placed in October 2021?\n",
        "\n",
        "**Question #5:** Which customer spent the most amount of money in 2021?\n",
        "\n",
        "**Question #6:** Historically, what is the best month for sales?\n",
        "\n",
        "Once you get your answers, remember to go back to the course and introduce them in the multiple choice quiz"
      ]
    },
    {
      "cell_type": "code",
      "execution_count": 80,
      "metadata": {
        "id": "8ipJTrfs5QVM",
        "colab": {
          "base_uri": "https://localhost:8080/"
        },
        "outputId": "654b4ec2-8bfd-4780-bd2d-505e8508495a"
      },
      "outputs": [
        {
          "output_type": "stream",
          "name": "stdout",
          "text": [
            "   CustomerID  OrderID                     Date  OrderTotal ProductName  Price\n",
            "0        8091  7742581  2021-07-26 14:40:10.783        95.0         Z03   90.0\n",
            "1      902139  7742778  2021-08-08 05:01:21.120        60.0    0844 A/C   60.0\n",
            "2     2300266  7742593  2021-07-27 11:00:16.020       185.0         M07   90.0\n",
            "3     2300266  7742593  2021-07-27 11:00:16.020       185.0         M09   90.0\n",
            "4     5173013  7742609  2021-07-28 14:26:13.930       165.0        0324  160.0\n",
            "<class 'pandas.core.frame.DataFrame'>\n",
            "RangeIndex: 29294 entries, 0 to 29293\n",
            "Data columns (total 6 columns):\n",
            " #   Column       Non-Null Count  Dtype  \n",
            "---  ------       --------------  -----  \n",
            " 0   CustomerID   29294 non-null  int64  \n",
            " 1   OrderID      29294 non-null  int64  \n",
            " 2   Date         27152 non-null  object \n",
            " 3   OrderTotal   29294 non-null  float64\n",
            " 4   ProductName  29294 non-null  object \n",
            " 5   Price        29294 non-null  float64\n",
            "dtypes: float64(2), int64(2), object(2)\n",
            "memory usage: 1.3+ MB\n"
          ]
        }
      ],
      "source": [
        "# open and evaluate orders.csv\n",
        "df_orders = pd.read_csv('./sample_data/orders.csv')\n",
        "print(df_orders.head())\n",
        "df_orders.info()"
      ]
    },
    {
      "cell_type": "code",
      "source": [
        "df_orders.rename(columns={'CustomerID': 'customer_id', 'OrderID': 'order_id', 'Date': 'date', 'OrderTotal': 'order_total', 'ProductName': 'product_name', 'Price': 'price'}, inplace=True)\n",
        "df_orders.info()"
      ],
      "metadata": {
        "colab": {
          "base_uri": "https://localhost:8080/"
        },
        "id": "RsvHruvKr4RP",
        "outputId": "d7fa00d3-c27e-4f5d-aa34-b0142d4a2327"
      },
      "execution_count": 81,
      "outputs": [
        {
          "output_type": "stream",
          "name": "stdout",
          "text": [
            "<class 'pandas.core.frame.DataFrame'>\n",
            "RangeIndex: 29294 entries, 0 to 29293\n",
            "Data columns (total 6 columns):\n",
            " #   Column        Non-Null Count  Dtype  \n",
            "---  ------        --------------  -----  \n",
            " 0   customer_id   29294 non-null  int64  \n",
            " 1   order_id      29294 non-null  int64  \n",
            " 2   date          27152 non-null  object \n",
            " 3   order_total   29294 non-null  float64\n",
            " 4   product_name  29294 non-null  object \n",
            " 5   price         29294 non-null  float64\n",
            "dtypes: float64(2), int64(2), object(2)\n",
            "memory usage: 1.3+ MB\n"
          ]
        }
      ]
    },
    {
      "cell_type": "code",
      "source": [
        "df_orders['date'] = pd.to_datetime(df_orders['date'])\n",
        "df_orders['order_total'] = df_orders['order_total'].astype(int)\n",
        "df_orders['price'] = df_orders['price'].astype(int)\n",
        "df_orders.info()\n",
        "df_orders.head()"
      ],
      "metadata": {
        "colab": {
          "base_uri": "https://localhost:8080/",
          "height": 432
        },
        "id": "DlvrHjCBsmwg",
        "outputId": "ddbe57a2-a623-42e5-9640-7c507c17592e"
      },
      "execution_count": 85,
      "outputs": [
        {
          "output_type": "stream",
          "name": "stdout",
          "text": [
            "<class 'pandas.core.frame.DataFrame'>\n",
            "RangeIndex: 29294 entries, 0 to 29293\n",
            "Data columns (total 6 columns):\n",
            " #   Column        Non-Null Count  Dtype         \n",
            "---  ------        --------------  -----         \n",
            " 0   customer_id   29294 non-null  int64         \n",
            " 1   order_id      29294 non-null  int64         \n",
            " 2   date          27152 non-null  datetime64[ns]\n",
            " 3   order_total   29294 non-null  int64         \n",
            " 4   product_name  29294 non-null  object        \n",
            " 5   price         29294 non-null  int64         \n",
            "dtypes: datetime64[ns](1), int64(4), object(1)\n",
            "memory usage: 1.3+ MB\n"
          ]
        },
        {
          "output_type": "execute_result",
          "data": {
            "text/plain": [
              "   customer_id  order_id                    date  order_total product_name  \\\n",
              "0         8091   7742581 2021-07-26 14:40:10.783           95          Z03   \n",
              "1       902139   7742778 2021-08-08 05:01:21.120           60     0844 A/C   \n",
              "2      2300266   7742593 2021-07-27 11:00:16.020          185          M07   \n",
              "3      2300266   7742593 2021-07-27 11:00:16.020          185          M09   \n",
              "4      5173013   7742609 2021-07-28 14:26:13.930          165         0324   \n",
              "\n",
              "   price  \n",
              "0     90  \n",
              "1     60  \n",
              "2     90  \n",
              "3     90  \n",
              "4    160  "
            ],
            "text/html": [
              "\n",
              "  <div id=\"df-1db2baf7-1ecb-4b65-9f84-188e7e66ed84\" class=\"colab-df-container\">\n",
              "    <div>\n",
              "<style scoped>\n",
              "    .dataframe tbody tr th:only-of-type {\n",
              "        vertical-align: middle;\n",
              "    }\n",
              "\n",
              "    .dataframe tbody tr th {\n",
              "        vertical-align: top;\n",
              "    }\n",
              "\n",
              "    .dataframe thead th {\n",
              "        text-align: right;\n",
              "    }\n",
              "</style>\n",
              "<table border=\"1\" class=\"dataframe\">\n",
              "  <thead>\n",
              "    <tr style=\"text-align: right;\">\n",
              "      <th></th>\n",
              "      <th>customer_id</th>\n",
              "      <th>order_id</th>\n",
              "      <th>date</th>\n",
              "      <th>order_total</th>\n",
              "      <th>product_name</th>\n",
              "      <th>price</th>\n",
              "    </tr>\n",
              "  </thead>\n",
              "  <tbody>\n",
              "    <tr>\n",
              "      <th>0</th>\n",
              "      <td>8091</td>\n",
              "      <td>7742581</td>\n",
              "      <td>2021-07-26 14:40:10.783</td>\n",
              "      <td>95</td>\n",
              "      <td>Z03</td>\n",
              "      <td>90</td>\n",
              "    </tr>\n",
              "    <tr>\n",
              "      <th>1</th>\n",
              "      <td>902139</td>\n",
              "      <td>7742778</td>\n",
              "      <td>2021-08-08 05:01:21.120</td>\n",
              "      <td>60</td>\n",
              "      <td>0844 A/C</td>\n",
              "      <td>60</td>\n",
              "    </tr>\n",
              "    <tr>\n",
              "      <th>2</th>\n",
              "      <td>2300266</td>\n",
              "      <td>7742593</td>\n",
              "      <td>2021-07-27 11:00:16.020</td>\n",
              "      <td>185</td>\n",
              "      <td>M07</td>\n",
              "      <td>90</td>\n",
              "    </tr>\n",
              "    <tr>\n",
              "      <th>3</th>\n",
              "      <td>2300266</td>\n",
              "      <td>7742593</td>\n",
              "      <td>2021-07-27 11:00:16.020</td>\n",
              "      <td>185</td>\n",
              "      <td>M09</td>\n",
              "      <td>90</td>\n",
              "    </tr>\n",
              "    <tr>\n",
              "      <th>4</th>\n",
              "      <td>5173013</td>\n",
              "      <td>7742609</td>\n",
              "      <td>2021-07-28 14:26:13.930</td>\n",
              "      <td>165</td>\n",
              "      <td>0324</td>\n",
              "      <td>160</td>\n",
              "    </tr>\n",
              "  </tbody>\n",
              "</table>\n",
              "</div>\n",
              "    <div class=\"colab-df-buttons\">\n",
              "\n",
              "  <div class=\"colab-df-container\">\n",
              "    <button class=\"colab-df-convert\" onclick=\"convertToInteractive('df-1db2baf7-1ecb-4b65-9f84-188e7e66ed84')\"\n",
              "            title=\"Convert this dataframe to an interactive table.\"\n",
              "            style=\"display:none;\">\n",
              "\n",
              "  <svg xmlns=\"http://www.w3.org/2000/svg\" height=\"24px\" viewBox=\"0 -960 960 960\">\n",
              "    <path d=\"M120-120v-720h720v720H120Zm60-500h600v-160H180v160Zm220 220h160v-160H400v160Zm0 220h160v-160H400v160ZM180-400h160v-160H180v160Zm440 0h160v-160H620v160ZM180-180h160v-160H180v160Zm440 0h160v-160H620v160Z\"/>\n",
              "  </svg>\n",
              "    </button>\n",
              "\n",
              "  <style>\n",
              "    .colab-df-container {\n",
              "      display:flex;\n",
              "      gap: 12px;\n",
              "    }\n",
              "\n",
              "    .colab-df-convert {\n",
              "      background-color: #E8F0FE;\n",
              "      border: none;\n",
              "      border-radius: 50%;\n",
              "      cursor: pointer;\n",
              "      display: none;\n",
              "      fill: #1967D2;\n",
              "      height: 32px;\n",
              "      padding: 0 0 0 0;\n",
              "      width: 32px;\n",
              "    }\n",
              "\n",
              "    .colab-df-convert:hover {\n",
              "      background-color: #E2EBFA;\n",
              "      box-shadow: 0px 1px 2px rgba(60, 64, 67, 0.3), 0px 1px 3px 1px rgba(60, 64, 67, 0.15);\n",
              "      fill: #174EA6;\n",
              "    }\n",
              "\n",
              "    .colab-df-buttons div {\n",
              "      margin-bottom: 4px;\n",
              "    }\n",
              "\n",
              "    [theme=dark] .colab-df-convert {\n",
              "      background-color: #3B4455;\n",
              "      fill: #D2E3FC;\n",
              "    }\n",
              "\n",
              "    [theme=dark] .colab-df-convert:hover {\n",
              "      background-color: #434B5C;\n",
              "      box-shadow: 0px 1px 3px 1px rgba(0, 0, 0, 0.15);\n",
              "      filter: drop-shadow(0px 1px 2px rgba(0, 0, 0, 0.3));\n",
              "      fill: #FFFFFF;\n",
              "    }\n",
              "  </style>\n",
              "\n",
              "    <script>\n",
              "      const buttonEl =\n",
              "        document.querySelector('#df-1db2baf7-1ecb-4b65-9f84-188e7e66ed84 button.colab-df-convert');\n",
              "      buttonEl.style.display =\n",
              "        google.colab.kernel.accessAllowed ? 'block' : 'none';\n",
              "\n",
              "      async function convertToInteractive(key) {\n",
              "        const element = document.querySelector('#df-1db2baf7-1ecb-4b65-9f84-188e7e66ed84');\n",
              "        const dataTable =\n",
              "          await google.colab.kernel.invokeFunction('convertToInteractive',\n",
              "                                                    [key], {});\n",
              "        if (!dataTable) return;\n",
              "\n",
              "        const docLinkHtml = 'Like what you see? Visit the ' +\n",
              "          '<a target=\"_blank\" href=https://colab.research.google.com/notebooks/data_table.ipynb>data table notebook</a>'\n",
              "          + ' to learn more about interactive tables.';\n",
              "        element.innerHTML = '';\n",
              "        dataTable['output_type'] = 'display_data';\n",
              "        await google.colab.output.renderOutput(dataTable, element);\n",
              "        const docLink = document.createElement('div');\n",
              "        docLink.innerHTML = docLinkHtml;\n",
              "        element.appendChild(docLink);\n",
              "      }\n",
              "    </script>\n",
              "  </div>\n",
              "\n",
              "\n",
              "    <div id=\"df-84d003fc-e549-442f-bcae-26b175990131\">\n",
              "      <button class=\"colab-df-quickchart\" onclick=\"quickchart('df-84d003fc-e549-442f-bcae-26b175990131')\"\n",
              "                title=\"Suggest charts\"\n",
              "                style=\"display:none;\">\n",
              "\n",
              "<svg xmlns=\"http://www.w3.org/2000/svg\" height=\"24px\"viewBox=\"0 0 24 24\"\n",
              "     width=\"24px\">\n",
              "    <g>\n",
              "        <path d=\"M19 3H5c-1.1 0-2 .9-2 2v14c0 1.1.9 2 2 2h14c1.1 0 2-.9 2-2V5c0-1.1-.9-2-2-2zM9 17H7v-7h2v7zm4 0h-2V7h2v10zm4 0h-2v-4h2v4z\"/>\n",
              "    </g>\n",
              "</svg>\n",
              "      </button>\n",
              "\n",
              "<style>\n",
              "  .colab-df-quickchart {\n",
              "      --bg-color: #E8F0FE;\n",
              "      --fill-color: #1967D2;\n",
              "      --hover-bg-color: #E2EBFA;\n",
              "      --hover-fill-color: #174EA6;\n",
              "      --disabled-fill-color: #AAA;\n",
              "      --disabled-bg-color: #DDD;\n",
              "  }\n",
              "\n",
              "  [theme=dark] .colab-df-quickchart {\n",
              "      --bg-color: #3B4455;\n",
              "      --fill-color: #D2E3FC;\n",
              "      --hover-bg-color: #434B5C;\n",
              "      --hover-fill-color: #FFFFFF;\n",
              "      --disabled-bg-color: #3B4455;\n",
              "      --disabled-fill-color: #666;\n",
              "  }\n",
              "\n",
              "  .colab-df-quickchart {\n",
              "    background-color: var(--bg-color);\n",
              "    border: none;\n",
              "    border-radius: 50%;\n",
              "    cursor: pointer;\n",
              "    display: none;\n",
              "    fill: var(--fill-color);\n",
              "    height: 32px;\n",
              "    padding: 0;\n",
              "    width: 32px;\n",
              "  }\n",
              "\n",
              "  .colab-df-quickchart:hover {\n",
              "    background-color: var(--hover-bg-color);\n",
              "    box-shadow: 0 1px 2px rgba(60, 64, 67, 0.3), 0 1px 3px 1px rgba(60, 64, 67, 0.15);\n",
              "    fill: var(--button-hover-fill-color);\n",
              "  }\n",
              "\n",
              "  .colab-df-quickchart-complete:disabled,\n",
              "  .colab-df-quickchart-complete:disabled:hover {\n",
              "    background-color: var(--disabled-bg-color);\n",
              "    fill: var(--disabled-fill-color);\n",
              "    box-shadow: none;\n",
              "  }\n",
              "\n",
              "  .colab-df-spinner {\n",
              "    border: 2px solid var(--fill-color);\n",
              "    border-color: transparent;\n",
              "    border-bottom-color: var(--fill-color);\n",
              "    animation:\n",
              "      spin 1s steps(1) infinite;\n",
              "  }\n",
              "\n",
              "  @keyframes spin {\n",
              "    0% {\n",
              "      border-color: transparent;\n",
              "      border-bottom-color: var(--fill-color);\n",
              "      border-left-color: var(--fill-color);\n",
              "    }\n",
              "    20% {\n",
              "      border-color: transparent;\n",
              "      border-left-color: var(--fill-color);\n",
              "      border-top-color: var(--fill-color);\n",
              "    }\n",
              "    30% {\n",
              "      border-color: transparent;\n",
              "      border-left-color: var(--fill-color);\n",
              "      border-top-color: var(--fill-color);\n",
              "      border-right-color: var(--fill-color);\n",
              "    }\n",
              "    40% {\n",
              "      border-color: transparent;\n",
              "      border-right-color: var(--fill-color);\n",
              "      border-top-color: var(--fill-color);\n",
              "    }\n",
              "    60% {\n",
              "      border-color: transparent;\n",
              "      border-right-color: var(--fill-color);\n",
              "    }\n",
              "    80% {\n",
              "      border-color: transparent;\n",
              "      border-right-color: var(--fill-color);\n",
              "      border-bottom-color: var(--fill-color);\n",
              "    }\n",
              "    90% {\n",
              "      border-color: transparent;\n",
              "      border-bottom-color: var(--fill-color);\n",
              "    }\n",
              "  }\n",
              "</style>\n",
              "\n",
              "      <script>\n",
              "        async function quickchart(key) {\n",
              "          const quickchartButtonEl =\n",
              "            document.querySelector('#' + key + ' button');\n",
              "          quickchartButtonEl.disabled = true;  // To prevent multiple clicks.\n",
              "          quickchartButtonEl.classList.add('colab-df-spinner');\n",
              "          try {\n",
              "            const charts = await google.colab.kernel.invokeFunction(\n",
              "                'suggestCharts', [key], {});\n",
              "          } catch (error) {\n",
              "            console.error('Error during call to suggestCharts:', error);\n",
              "          }\n",
              "          quickchartButtonEl.classList.remove('colab-df-spinner');\n",
              "          quickchartButtonEl.classList.add('colab-df-quickchart-complete');\n",
              "        }\n",
              "        (() => {\n",
              "          let quickchartButtonEl =\n",
              "            document.querySelector('#df-84d003fc-e549-442f-bcae-26b175990131 button');\n",
              "          quickchartButtonEl.style.display =\n",
              "            google.colab.kernel.accessAllowed ? 'block' : 'none';\n",
              "        })();\n",
              "      </script>\n",
              "    </div>\n",
              "\n",
              "    </div>\n",
              "  </div>\n"
            ],
            "application/vnd.google.colaboratory.intrinsic+json": {
              "type": "dataframe",
              "variable_name": "df_orders",
              "summary": "{\n  \"name\": \"df_orders\",\n  \"rows\": 29294,\n  \"fields\": [\n    {\n      \"column\": \"customer_id\",\n      \"properties\": {\n        \"dtype\": \"number\",\n        \"std\": 1690697,\n        \"min\": 5014,\n        \"max\": 5415503,\n        \"num_unique_values\": 471,\n        \"samples\": [\n          5814,\n          20471,\n          5100363\n        ],\n        \"semantic_type\": \"\",\n        \"description\": \"\"\n      }\n    },\n    {\n      \"column\": \"order_id\",\n      \"properties\": {\n        \"dtype\": \"number\",\n        \"std\": 2235205,\n        \"min\": 5038,\n        \"max\": 7791850,\n        \"num_unique_values\": 16672,\n        \"samples\": [\n          4231776,\n          7408447,\n          7791378\n        ],\n        \"semantic_type\": \"\",\n        \"description\": \"\"\n      }\n    },\n    {\n      \"column\": \"date\",\n      \"properties\": {\n        \"dtype\": \"date\",\n        \"min\": \"2005-10-09 16:16:22.013000\",\n        \"max\": \"2022-02-09 12:01:54.493000\",\n        \"num_unique_values\": 15675,\n        \"samples\": [\n          \"2021-12-14 14:33:05.873000\",\n          \"2013-12-04 11:24:45.993000\",\n          \"2018-02-12 10:39:46.050000\"\n        ],\n        \"semantic_type\": \"\",\n        \"description\": \"\"\n      }\n    },\n    {\n      \"column\": \"order_total\",\n      \"properties\": {\n        \"dtype\": \"number\",\n        \"std\": 407,\n        \"min\": 0,\n        \"max\": 3600,\n        \"num_unique_values\": 272,\n        \"samples\": [\n          160,\n          935,\n          220\n        ],\n        \"semantic_type\": \"\",\n        \"description\": \"\"\n      }\n    },\n    {\n      \"column\": \"product_name\",\n      \"properties\": {\n        \"dtype\": \"category\",\n        \"num_unique_values\": 1647,\n        \"samples\": [\n          \"3307\",\n          \"Orange Tic#025\",\n          \"0860 A/C\"\n        ],\n        \"semantic_type\": \"\",\n        \"description\": \"\"\n      }\n    },\n    {\n      \"column\": \"price\",\n      \"properties\": {\n        \"dtype\": \"number\",\n        \"std\": 48,\n        \"min\": 0,\n        \"max\": 600,\n        \"num_unique_values\": 43,\n        \"samples\": [\n          210,\n          350,\n          550\n        ],\n        \"semantic_type\": \"\",\n        \"description\": \"\"\n      }\n    }\n  ]\n}"
            }
          },
          "metadata": {},
          "execution_count": 85
        }
      ]
    },
    {
      "cell_type": "markdown",
      "source": [
        "## 1: How many unique orders are in the orders.csv file?"
      ],
      "metadata": {
        "id": "Ov2ypY3MrqaK"
      }
    },
    {
      "cell_type": "code",
      "source": [
        "orders_unique = df_orders['order_id'].unique()\n",
        "print(f'\\nThere are {len(orders_unique)} unique orders in the file.')"
      ],
      "metadata": {
        "colab": {
          "base_uri": "https://localhost:8080/"
        },
        "id": "5CgKp7h4rO2X",
        "outputId": "44fe71af-a57a-4411-a170-b8c929cfe394"
      },
      "execution_count": 82,
      "outputs": [
        {
          "output_type": "stream",
          "name": "stdout",
          "text": [
            "\n",
            "There are 16672 unique orders in the file.\n"
          ]
        }
      ]
    },
    {
      "cell_type": "markdown",
      "source": [
        "## 2: What is the average number of items per order (rounded to two decimal places)?"
      ],
      "metadata": {
        "id": "BxP4LIW5seJ_"
      }
    },
    {
      "cell_type": "code",
      "source": [
        "average_items_per_order = df_orders.groupby('order_id')['product_name'].count().mean()\n",
        "print(f'\\nThe average number of items per order is {average_items_per_order:.2f}.')"
      ],
      "metadata": {
        "colab": {
          "base_uri": "https://localhost:8080/"
        },
        "id": "JG7dlyCSsjc_",
        "outputId": "6d04d7e7-faa3-4de3-d5e1-474582bd55d8"
      },
      "execution_count": 86,
      "outputs": [
        {
          "output_type": "stream",
          "name": "stdout",
          "text": [
            "\n",
            "The average number of items per order is 1.76.\n"
          ]
        }
      ]
    },
    {
      "cell_type": "markdown",
      "source": [
        "## 3: What is the highest number of items per order?\n"
      ],
      "metadata": {
        "id": "MCx517m9tic7"
      }
    },
    {
      "cell_type": "code",
      "source": [
        "order_max_items = df_orders.groupby('order_id')['product_name'].count().max()\n",
        "print(f'\\nThe highest number of items per order is {order_max_items}.')"
      ],
      "metadata": {
        "colab": {
          "base_uri": "https://localhost:8080/"
        },
        "id": "DtxxsCs1tkYA",
        "outputId": "16ab373a-1537-4f16-8056-daaa7120d9ce"
      },
      "execution_count": 87,
      "outputs": [
        {
          "output_type": "stream",
          "name": "stdout",
          "text": [
            "\n",
            "The highest number of items per order is 35.\n"
          ]
        }
      ]
    },
    {
      "cell_type": "markdown",
      "source": [
        "## 4: What is the number of orders placed in October 2021?\n"
      ],
      "metadata": {
        "id": "Dp44m89Ctxeb"
      }
    },
    {
      "cell_type": "code",
      "source": [
        "orders_in_october_2021 = df_orders[(df_orders['date'].dt.year == 2021) & (df_orders['date'].dt.month == 10)]\n",
        "print(f'\\nThe number of orders in October 2021 is: {len(orders_in_october_2021)}.')"
      ],
      "metadata": {
        "colab": {
          "base_uri": "https://localhost:8080/"
        },
        "id": "dItg-0Nrt1Go",
        "outputId": "e551ac20-00a5-4537-87e8-9e004bed084a"
      },
      "execution_count": 93,
      "outputs": [
        {
          "output_type": "stream",
          "name": "stdout",
          "text": [
            "\n",
            "The number of orders in October 2021 is: 437.\n"
          ]
        }
      ]
    },
    {
      "cell_type": "markdown",
      "source": [
        "## 5: Which customer spent the most amount of money in 2021?"
      ],
      "metadata": {
        "id": "-Ox6DTuAukTy"
      }
    },
    {
      "cell_type": "code",
      "source": [
        "df_merge = df_costumers.merge(df_orders, on='customer_id')\n",
        "money_spent = df_orders[df_orders['date'].dt.year == 2021].groupby('customer_id')['order_total'].sum().sort_values(ascending=True)\n",
        "\n",
        "most_money_spent_customer_id = money_spent.idxmax()\n",
        "most_money_spent_amount = money_spent.max()\n",
        "\n",
        "customer_info = df_costumers[df_costumers['customer_id'] == most_money_spent_customer_id].iloc[0]\n",
        "customer_name = f\"{customer_info['first_name']} {customer_info['last_name']}\"\n",
        "\n",
        "print(f'\\nThe customer who spent the most money in 2021 is {customer_name} (customer ID: {most_money_spent_customer_id}) with ${most_money_spent_amount}.')\n",
        "\n",
        "\n",
        "# Ther is an error in the question\n"
      ],
      "metadata": {
        "colab": {
          "base_uri": "https://localhost:8080/"
        },
        "id": "WThTQc77up6i",
        "outputId": "27fd8973-6883-4558-d8d4-170b9f9b0d10"
      },
      "execution_count": 117,
      "outputs": [
        {
          "output_type": "stream",
          "name": "stdout",
          "text": [
            "\n",
            "The customer who spent the most money in 2021 is Juan Soto (customer ID: 5464) with $56170.\n"
          ]
        }
      ]
    },
    {
      "cell_type": "markdown",
      "source": [
        "## 6: Historically, what is the best month for sales?"
      ],
      "metadata": {
        "id": "A7SZl_YSwd4v"
      }
    },
    {
      "cell_type": "code",
      "source": [
        "avg_monthly_sales = df_orders.groupby(df_orders['date'].dt.month)['order_total'].mean()\n",
        "avg_best_month_number = avg_monthly_sales.idxmax()\n",
        "\n",
        "sum_monthly_sales = df_orders.groupby(df_orders['date'].dt.month)['order_total'].sum()\n",
        "sum_best_month_number = sum_monthly_sales.idxmax()\n",
        "\n",
        "avg_best_month_name = pd.to_datetime(avg_best_month_number, format='%m').strftime('%B')\n",
        "sum_best_month_name = pd.to_datetime(sum_best_month_number, format='%m').strftime('%B')\n",
        "print(f'The best month for average sales is {avg_best_month_name}.')\n",
        "print(f'\\nThe best month for total sales is {sum_best_month_name}.')\n"
      ],
      "metadata": {
        "colab": {
          "base_uri": "https://localhost:8080/"
        },
        "id": "jBGbvERdwc-v",
        "outputId": "66c51e40-0e0d-4748-c518-0e6f9db3b779"
      },
      "execution_count": 106,
      "outputs": [
        {
          "output_type": "stream",
          "name": "stdout",
          "text": [
            "The best month for average sales is February.\n",
            "\n",
            "The best month for total sales is January.\n"
          ]
        }
      ]
    },
    {
      "cell_type": "markdown",
      "metadata": {
        "id": "ie0JW4FAk6Os"
      },
      "source": [
        "# Finished!\n",
        "\n",
        "Hope this was not too difficult and slicing and dicing the datasets was some fun. Now head on back to the course and provide the answers to the questions from this exercise."
      ]
    }
  ],
  "metadata": {
    "colab": {
      "name": "customers_and_orders.ipynb",
      "provenance": []
    },
    "kernelspec": {
      "display_name": "Python 3 (ipykernel)",
      "language": "python",
      "name": "python3"
    },
    "language_info": {
      "codemirror_mode": {
        "name": "ipython",
        "version": 3
      },
      "file_extension": ".py",
      "mimetype": "text/x-python",
      "name": "python",
      "nbconvert_exporter": "python",
      "pygments_lexer": "ipython3",
      "version": "3.9.9"
    }
  },
  "nbformat": 4,
  "nbformat_minor": 0
}